{
 "cells": [
  {
   "cell_type": "markdown",
   "id": "4f59f765",
   "metadata": {},
   "source": [
    "# Comparison of pairs (original - abstraction)"
   ]
  },
  {
   "cell_type": "markdown",
   "source": [],
   "metadata": {
    "collapsed": false
   }
  },
  {
   "cell_type": "code",
   "execution_count": 18,
   "id": "5c4901e3",
   "metadata": {},
   "outputs": [],
   "source": [
    "import os\n",
    "import matplotlib.pyplot as plt\n",
    "import matplotlib.image as img"
   ]
  },
  {
   "cell_type": "code",
   "execution_count": 19,
   "id": "7133c1c1",
   "metadata": {},
   "outputs": [],
   "source": [
    "path_frames = '../data/gan_frames'\n",
    "path_abstractions = '../data/gan_abstractions'"
   ]
  },
  {
   "cell_type": "code",
   "execution_count": null,
   "id": "cb310c94",
   "metadata": {
    "scrolled": false,
    "pycharm": {
     "is_executing": true
    }
   },
   "outputs": [],
   "source": [
    "for name_of_video_frame in sorted(os.listdir(path_abstractions))[1:]:\n",
    "    frame_dir = os.path.join(path_frames, name_of_video_frame)\n",
    "    abs_dir = os.path.join(path_abstractions, name_of_video_frame)\n",
    "    for img_name in os.listdir(abs_dir):\n",
    "        img1 = os.path.join(frame_dir, img_name)\n",
    "        img1 = img.imread(img1)\n",
    "        \n",
    "        img2 = os.path.join(abs_dir, img_name)\n",
    "        img2 = img.imread(img2)\n",
    "        f, axarr = plt.subplots(1, 2)\n",
    "        f.set_size_inches(18.5, 10.5)\n",
    "        axarr[0].imshow(img1)\n",
    "        axarr[1].imshow(img2)\n",
    "        \n",
    "        plt.show()\n",
    "        break\n",
    "#     print(frame, abstr)"
   ]
  },
  {
   "cell_type": "code",
   "execution_count": null,
   "id": "169a9a6b",
   "metadata": {
    "scrolled": true,
    "pycharm": {
     "is_executing": true
    }
   },
   "outputs": [],
   "source": [
    "for name_of_video_frame in sorted(os.listdir(path_abstractions))[1:2]:\n",
    "    frame_dir = os.path.join(path_frames, name_of_video_frame)\n",
    "    abs_dir = os.path.join(path_abstractions, name_of_video_frame)\n",
    "    for img_name in sorted(os.listdir(abs_dir)):\n",
    "        print('Image name: ', img_name)\n",
    "        img1 = os.path.join(frame_dir, img_name)\n",
    "        img1 = img.imread(img1)\n",
    "        \n",
    "        img2 = os.path.join(abs_dir, img_name)\n",
    "        img2 = img.imread(img2)\n",
    "        f, axarr = plt.subplots(1, 2)\n",
    "        f.set_size_inches(18.5, 10.5)\n",
    "        axarr[0].imshow(img1)\n",
    "        axarr[1].imshow(img2)\n",
    "        \n",
    "        plt.show()\n",
    "#         break\n",
    "#     print(frame, abstr)"
   ]
  },
  {
   "cell_type": "code",
   "execution_count": null,
   "id": "9b1bd611",
   "metadata": {
    "pycharm": {
     "is_executing": true
    }
   },
   "outputs": [],
   "source": [
    "for name_of_video_frame in sorted(os.listdir(path_abstractions))[2:3]:\n",
    "    frame_dir = os.path.join(path_frames, name_of_video_frame)\n",
    "    abs_dir = os.path.join(path_abstractions, name_of_video_frame)\n",
    "    for img_name in sorted(os.listdir(abs_dir)):\n",
    "        print('Image name: ', img_name)\n",
    "        if img_name == \n",
    "        img1 = os.path.join(frame_dir, img_name)\n",
    "        img1 = img.imread(img1)\n",
    "        \n",
    "        img2 = os.path.join(abs_dir, img_name)\n",
    "        img2 = img.imread(img2)\n",
    "        f, axarr = plt.subplots(1, 2)\n",
    "        f.set_size_inches(18.5, 10.5)\n",
    "        axarr[0].imshow(img1)\n",
    "        axarr[1].imshow(img2)\n",
    "        \n",
    "        plt.show()\n",
    "#         break\n",
    "#     print(frame, abstr)"
   ]
  },
  {
   "cell_type": "code",
   "execution_count": null,
   "id": "e352c152",
   "metadata": {},
   "outputs": [],
   "source": []
  },
  {
   "cell_type": "code",
   "execution_count": null,
   "id": "a184c13b",
   "metadata": {},
   "outputs": [],
   "source": []
  },
  {
   "cell_type": "code",
   "execution_count": null,
   "id": "d6d93fd4",
   "metadata": {},
   "outputs": [],
   "source": []
  },
  {
   "cell_type": "code",
   "execution_count": null,
   "id": "62232366",
   "metadata": {},
   "outputs": [],
   "source": []
  },
  {
   "cell_type": "code",
   "execution_count": null,
   "id": "c96d4c2a",
   "metadata": {},
   "outputs": [],
   "source": []
  },
  {
   "cell_type": "code",
   "execution_count": null,
   "id": "75060bb5",
   "metadata": {},
   "outputs": [],
   "source": []
  },
  {
   "cell_type": "code",
   "execution_count": null,
   "id": "9c0a06d3",
   "metadata": {},
   "outputs": [],
   "source": []
  },
  {
   "cell_type": "code",
   "execution_count": null,
   "id": "b7924226",
   "metadata": {},
   "outputs": [],
   "source": []
  }
 ],
 "metadata": {
  "kernelspec": {
   "display_name": "Python 3 (ipykernel)",
   "language": "python",
   "name": "python3"
  },
  "language_info": {
   "codemirror_mode": {
    "name": "ipython",
    "version": 3
   },
   "file_extension": ".py",
   "mimetype": "text/x-python",
   "name": "python",
   "nbconvert_exporter": "python",
   "pygments_lexer": "ipython3",
   "version": "3.9.7"
  }
 },
 "nbformat": 4,
 "nbformat_minor": 5
}