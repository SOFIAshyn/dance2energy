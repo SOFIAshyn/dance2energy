{
  "cells": [
    {
      "cell_type": "code",
      "execution_count": 12,
      "metadata": {
        "colab": {
          "base_uri": "https://localhost:8080/"
        },
        "id": "yREZEhAx3AVV",
        "outputId": "213fbca2-01ef-48a8-a08c-de5303f20b69"
      },
      "outputs": [
        {
          "output_type": "stream",
          "name": "stdout",
          "text": [
            "Mounted at /content/gdrive\n"
          ]
        }
      ],
      "source": [
        "from google.colab import drive\n",
        "drive.mount('/content/gdrive', force_remount=True)"
      ]
    },
    {
      "cell_type": "markdown",
      "metadata": {
        "id": "RRT-EV5ZkIQU"
      },
      "source": [
        "### Module Description\n",
        "31/03/2022 - Sofiia Petryshyn\n",
        "\n",
        "The data from Alpha Pose was taken through Google Colab platform.\n",
        "This module exists to upload data to Alpha Pose pretrained model and save the result keypoints in JSON files. \\\n",
        "1. Appload an archive to your drive: \\\n",
        "In our case: \\\n",
        "`MyDrive/projects/dance2energy/data/test-dance-video-frames.zip` \n",
        "2. Unzip the archive into the directory of the Colab notebook\n",
        "3. Process data from the directory\n",
        "\n",
        "The data is available here: https://drive.google.com/drive/folders/1wFblA5JgERSVFKzM96BPU69uXnl6dZcu?usp=sharing"
      ]
    },
    {
      "cell_type": "code",
      "execution_count": null,
      "metadata": {
        "id": "K9NXeBci4Qza"
      },
      "outputs": [],
      "source": [
        "!unzip /content/gdrive/MyDrive/projects/dance2energy/data/test-dance-video-frames.zip -d ./"
      ]
    },
    {
      "cell_type": "code",
      "execution_count": null,
      "metadata": {
        "id": "jt-S2veZ24SI"
      },
      "outputs": [],
      "source": [
        "! pip install pyyaml==5.2\n",
        "! pip install scipy==1.1.0\n",
        "! pip install torch==1.2.0 torchvision==0.4.0\n",
        "! pip install pillow==6.2.2\n",
        "import torch\n",
        "print(torch.__version__)\n",
        "import yaml, scipy\n",
        "print(yaml.__version__)\n",
        "print(scipy.__version__)"
      ]
    },
    {
      "cell_type": "code",
      "execution_count": null,
      "metadata": {
        "id": "QBTh-R4y25Ac"
      },
      "outputs": [],
      "source": [
        "import os\n",
        "!rm -rf /content/AlphaPose\n",
        "os.chdir('/content/')\n",
        "!git clone https://github.com/MVIG-SJTU/AlphaPose.git"
      ]
    },
    {
      "cell_type": "code",
      "execution_count": null,
      "metadata": {
        "id": "HzWnFokU3DVm"
      },
      "outputs": [],
      "source": [
        "os.chdir('/content/AlphaPose')\n",
        "print(os.getcwd())\n",
        "!python setup.py build develop"
      ]
    },
    {
      "cell_type": "code",
      "execution_count": 18,
      "metadata": {
        "id": "no-miB6k3E15"
      },
      "outputs": [],
      "source": [
        "!pip install -U -q PyDrive\n",
        "\n",
        "from pydrive.auth import GoogleAuth\n",
        "from pydrive.drive import GoogleDrive\n",
        "from google.colab import auth\n",
        "from oauth2client.client import GoogleCredentials\n",
        "# Authenticate and create the PyDrive client.\n",
        "# This only needs to be done once per notebook.\n",
        "auth.authenticate_user()\n",
        "gauth = GoogleAuth()\n",
        "gauth.credentials = GoogleCredentials.get_application_default()\n",
        "drive = GoogleDrive(gauth)\n",
        "\n",
        "! mkdir /content/AlphaPose/detector/yolo/data\n",
        "file_id = '1D47msNOOiJKvPOXlnpyzdKA3k6E97NTC'\n",
        "downloaded = drive.CreateFile({'id': file_id})\n",
        "downloaded.GetContentFile('/content/AlphaPose/detector/yolo/data/yolov3-spp.weights')\n",
        "\n",
        "! mkdir /content/AlphaPose/detector/tracker/data\n",
        "file_id = '1nlnuYfGNuHWZztQHXwVZSL_FvfE551pA'\n",
        "downloaded = drive.CreateFile({'id': file_id})\n",
        "downloaded.GetContentFile('/content/AlphaPose/detector/tracker/data/JDE-1088x608-uncertainty')\n",
        "\n",
        "file_id = '1kQhnMRURFiy7NsdS8EFL-8vtqEXOgECn'\n",
        "downloaded = drive.CreateFile({'id': file_id})\n",
        "downloaded.GetContentFile('/content/AlphaPose/pretrained_models/fast_res50_256x192.pth')"
      ]
    },
    {
      "cell_type": "code",
      "execution_count": 19,
      "metadata": {
        "colab": {
          "base_uri": "https://localhost:8080/"
        },
        "id": "pPMkqRR_9N2C",
        "outputId": "0d8945e4-17f2-4635-f68b-0e27b3f06418"
      },
      "outputs": [
        {
          "output_type": "stream",
          "name": "stdout",
          "text": [
            "ls: cannot access './examples/test-dance-video-frames/': No such file or directory\n"
          ]
        }
      ],
      "source": [
        "!ls ./examples/test-dance-video-frames/"
      ]
    },
    {
      "cell_type": "markdown",
      "source": [
        "The code below should be run for every directory of `examples/test-dance-video-frames/`."
      ],
      "metadata": {
        "id": "_Y7kzgYNkWzN"
      }
    },
    {
      "cell_type": "code",
      "execution_count": 21,
      "metadata": {
        "colab": {
          "base_uri": "https://localhost:8080/"
        },
        "id": "wYeNpV8R84w0",
        "outputId": "606207e1-6ad9-4868-e31e-f6d5550bbe16"
      },
      "outputs": [
        {
          "output_type": "stream",
          "name": "stdout",
          "text": [
            "alphapose  detector  LICENSE\t\tREADME.md  setup.py\n",
            "build\t   docs      model_files\tscripts    trackers\n",
            "configs    examples  pretrained_models\tsetup.cfg\n",
            "Traceback (most recent call last):\n",
            "  File \"scripts/demo_inference.py\", line 13, in <module>\n",
            "    from detector.apis import get_detector\n",
            "ModuleNotFoundError: No module named 'detector'\n",
            "ls: cannot access 'examples/res/': No such file or directory\n"
          ]
        }
      ],
      "source": [
        "import os\n",
        "os.chdir('/content/AlphaPose')\n",
        "! ls\n",
        "# as an example `4800` directory was taken\n",
        "! python3 scripts/demo_inference.py --cfg configs/coco/resnet/256x192_res50_lr1e-3_1x.yaml --checkpoint pretrained_models/fast_res50_256x192.pth --indir /content/gdrive/MyDrive/projects/dance2energy/data/ballet-ech-5th-batch\n",
        "# --save_img\n",
        "# result json and rendered images are saved here:\n",
        "! ls examples/res/\n",
        "# ! ls examples/res/vis"
      ]
    },
    {
      "cell_type": "markdown",
      "source": [
        "After the run download `alphapose-results.json` file that was saved in `examples/res`. If you need visualisation as well, please download files from `examples/res/vis`."
      ],
      "metadata": {
        "id": "0O2HqZiKks_s"
      }
    },
    {
      "cell_type": "code",
      "execution_count": null,
      "metadata": {
        "id": "bSBRPP_A64qP"
      },
      "outputs": [],
      "source": [
        ""
      ]
    }
  ],
  "metadata": {
    "colab": {
      "collapsed_sections": [],
      "name": "alpha_pose_frames_processing.ipynb",
      "provenance": []
    },
    "kernelspec": {
      "display_name": "Python 3 (ipykernel)",
      "language": "python",
      "name": "python3"
    },
    "language_info": {
      "codemirror_mode": {
        "name": "ipython",
        "version": 3
      },
      "file_extension": ".py",
      "mimetype": "text/x-python",
      "name": "python",
      "nbconvert_exporter": "python",
      "pygments_lexer": "ipython3",
      "version": "3.9.7"
    }
  },
  "nbformat": 4,
  "nbformat_minor": 0
}